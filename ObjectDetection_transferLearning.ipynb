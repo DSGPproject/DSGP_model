{
  "cells": [
    {
      "cell_type": "markdown",
      "metadata": {
        "id": "view-in-github",
        "colab_type": "text"
      },
      "source": [
        "<a href=\"https://colab.research.google.com/github/DSGPproject/DSGP_model/blob/Esandu/ObjectDetection_transferLearning.ipynb\" target=\"_parent\"><img src=\"https://colab.research.google.com/assets/colab-badge.svg\" alt=\"Open In Colab\"/></a>"
      ]
    },
    {
      "cell_type": "code",
      "execution_count": 1,
      "metadata": {
        "id": "pGUcXYE1ZbJf"
      },
      "outputs": [],
      "source": [
        "import numpy as np\n",
        "import cv2\n",
        "\n",
        "import PIL.Image as Image\n",
        "import os\n",
        "\n",
        "import matplotlib.pylab as plt\n",
        "\n",
        "import tensorflow as tf\n",
        "\n",
        "import tensorflow.keras as tfk\n",
        "import tensorflow.keras.layers as tfl\n",
        "import tensorflow_hub as hub\n",
        "\n",
        "from tensorflow import keras\n",
        "from tensorflow.keras import layers\n",
        "from tensorflow.keras.models import Sequential"
      ]
    },
    {
      "cell_type": "code",
      "execution_count": 2,
      "metadata": {
        "id": "PriwZKrrZeJQ"
      },
      "outputs": [],
      "source": [
        "IMAGE_SHAPE = (224, 224)\n",
        "\n",
        "classifier = tf.keras.Sequential([\n",
        "    hub.KerasLayer(\"https://www.kaggle.com/models/google/resnet-v2/frameworks/TensorFlow2/variations/101-classification/versions/2\", input_shape=IMAGE_SHAPE+(3,))\n",
        "])"
      ]
    },
    {
      "cell_type": "code",
      "execution_count": 3,
      "metadata": {
        "colab": {
          "base_uri": "https://localhost:8080/"
        },
        "id": "zNWWhF-JRb3k",
        "outputId": "b5a3b866-8bed-4f03-cdea-f0334b65fff6"
      },
      "outputs": [
        {
          "output_type": "stream",
          "name": "stdout",
          "text": [
            "Downloading data from https://storage.googleapis.com/tensorflow/keras-applications/resnet/resnet50v2_weights_tf_dim_ordering_tf_kernels_notop.h5\n",
            "94668760/94668760 [==============================] - 1s 0us/step\n"
          ]
        }
      ],
      "source": [
        "# Load pre-trained ResNet model\n",
        "resnet_model = tf.keras.applications.ResNet50V2(weights='imagenet', include_top=False, input_shape=(224, 224, 3))\n"
      ]
    },
    {
      "cell_type": "code",
      "execution_count": null,
      "metadata": {
        "colab": {
          "base_uri": "https://localhost:8080/"
        },
        "id": "Y6M9Y51YZeMW",
        "outputId": "e92e8750-c5d8-4bcb-e45d-a40d846d8283"
      },
      "outputs": [
        {
          "name": "stdout",
          "output_type": "stream",
          "text": [
            "Drive already mounted at /content/drive; to attempt to forcibly remount, call drive.mount(\"/content/drive\", force_remount=True).\n"
          ]
        }
      ],
      "source": []
    },
    {
      "cell_type": "code",
      "execution_count": 4,
      "metadata": {
        "colab": {
          "base_uri": "https://localhost:8080/"
        },
        "id": "eMMiFPKKVcjo",
        "outputId": "80b5ca2d-edc2-487a-8ef0-d25241ede893"
      },
      "outputs": [
        {
          "output_type": "stream",
          "name": "stdout",
          "text": [
            "Mounted at /content/drive\n"
          ]
        }
      ],
      "source": [
        "from google.colab import drive\n",
        "drive.mount('/content/drive')\n"
      ]
    },
    {
      "cell_type": "code",
      "execution_count": 5,
      "metadata": {
        "id": "_cnxjjgKSnqM"
      },
      "outputs": [],
      "source": [
        "# Define image shape\n",
        "IMAGE_SHAPE = (224, 224)\n",
        "BATCH_SIZE = 32\n",
        "EPOCHS = 20\n",
        "IMAGE_SIZE = 224"
      ]
    },
    {
      "cell_type": "code",
      "execution_count": 6,
      "metadata": {
        "colab": {
          "base_uri": "https://localhost:8080/"
        },
        "id": "exzmWLQqZeOa",
        "outputId": "e5c12551-62b7-4a3b-eff3-1b6f73abc987"
      },
      "outputs": [
        {
          "output_type": "stream",
          "name": "stdout",
          "text": [
            "Found 883 files belonging to 1 classes.\n"
          ]
        },
        {
          "output_type": "execute_result",
          "data": {
            "text/plain": [
              "['onlyLeafs']"
            ]
          },
          "metadata": {},
          "execution_count": 6
        }
      ],
      "source": [
        "dataset = tf.keras.preprocessing.image_dataset_from_directory(\n",
        "    \"/content/drive/MyDrive/objectdetection\",\n",
        "    seed=123,\n",
        "    shuffle = True,\n",
        "    image_size = (IMAGE_SIZE,IMAGE_SIZE),\n",
        "    batch_size = BATCH_SIZE\n",
        ")\n",
        "\n",
        "class_names = dataset.class_names\n",
        "class_names\n"
      ]
    },
    {
      "cell_type": "code",
      "execution_count": null,
      "metadata": {
        "id": "5nCyk5pPZeRj"
      },
      "outputs": [],
      "source": []
    },
    {
      "cell_type": "code",
      "execution_count": 7,
      "metadata": {
        "id": "dOmN-4zMZeTG"
      },
      "outputs": [],
      "source": [
        "# Create new model with ResNet base and additional classification layers\n",
        "model = tf.keras.Sequential([\n",
        "    resnet_model,\n",
        "    layers.GlobalAveragePooling2D(),\n",
        "    layers.Dense(128, activation='relu'),\n",
        "    layers.Dropout(0.5),\n",
        "    layers.Dense(1, activation='sigmoid')  # Binary classification\n",
        "])"
      ]
    },
    {
      "cell_type": "code",
      "execution_count": 8,
      "metadata": {
        "id": "Q92BPFxCZeU7"
      },
      "outputs": [],
      "source": [
        "# Compile the model\n",
        "model.compile(optimizer='adam',\n",
        "              loss='binary_crossentropy',\n",
        "              metrics=['accuracy'])"
      ]
    },
    {
      "cell_type": "code",
      "execution_count": 9,
      "metadata": {
        "id": "DGEcbJ-mZeWw"
      },
      "outputs": [],
      "source": [
        "def get_dataset_partitions_tf(ds, train_split=0.8, val_split=0.1, test_split=0.1, shuffle=True, shuffle_size=10000):\n",
        "    assert (train_split + test_split + val_split) == 1\n",
        "\n",
        "    ds_size = len(ds)\n",
        "\n",
        "    if shuffle:\n",
        "        ds = ds.shuffle(shuffle_size, seed=12)\n",
        "\n",
        "    train_size = int(train_split * ds_size)\n",
        "    val_size = int(val_split * ds_size)\n",
        "\n",
        "    train_ds = ds.take(train_size)\n",
        "    remaining_ds = ds.skip(train_size)\n",
        "    val_ds = remaining_ds.take(val_size)\n",
        "    test_ds = remaining_ds.skip(val_size)\n",
        "\n",
        "    return train_ds, val_ds, test_ds\n"
      ]
    },
    {
      "cell_type": "code",
      "execution_count": 10,
      "metadata": {
        "id": "Pd-AryQPZeYV"
      },
      "outputs": [],
      "source": [
        "train_ds, val_ds, test_ds = get_dataset_partitions_tf(dataset)"
      ]
    },
    {
      "cell_type": "code",
      "execution_count": 11,
      "metadata": {
        "id": "Zt04gKSQRyMZ"
      },
      "outputs": [],
      "source": [
        "train_ds = train_ds.cache().shuffle(1000).prefetch(buffer_size=tf.data.AUTOTUNE)\n",
        "val_ds = val_ds.cache().shuffle(1000).prefetch(buffer_size=tf.data.AUTOTUNE)\n",
        "test_ds = test_ds.cache().shuffle(1000).prefetch(buffer_size=tf.data.AUTOTUNE)"
      ]
    },
    {
      "cell_type": "code",
      "execution_count": 12,
      "metadata": {
        "id": "OGz93qJ_R1BJ"
      },
      "outputs": [],
      "source": [
        "data_augmentation = tf.keras.Sequential([\n",
        "    layers.experimental.preprocessing.RandomFlip(\"horizontal_and_vertical\"),\n",
        "    layers.experimental.preprocessing.RandomRotation(0.2),\n",
        "    layers.experimental.preprocessing.RandomZoom(0.2),\n",
        "])"
      ]
    },
    {
      "cell_type": "code",
      "execution_count": 13,
      "metadata": {
        "id": "VL0V9j31R6F3"
      },
      "outputs": [],
      "source": [
        "train_ds = train_ds.map(\n",
        "    lambda x, y: (data_augmentation(x, training=True), y)\n",
        ").prefetch(buffer_size=tf.data.AUTOTUNE)"
      ]
    },
    {
      "cell_type": "code",
      "execution_count": 14,
      "metadata": {
        "colab": {
          "base_uri": "https://localhost:8080/"
        },
        "id": "hb9_1fzgSGAF",
        "outputId": "aa06ce3a-3540-4916-da0e-fbf08e42e766"
      },
      "outputs": [
        {
          "output_type": "stream",
          "name": "stdout",
          "text": [
            "Epoch 1/20\n",
            "22/22 [==============================] - 696s 20s/step - loss: 0.0470 - accuracy: 0.9711 - val_loss: 3.2744e-37 - val_accuracy: 1.0000\n",
            "Epoch 2/20\n",
            "22/22 [==============================] - 399s 18s/step - loss: 4.2227e-06 - accuracy: 1.0000 - val_loss: 2.9563e-23 - val_accuracy: 1.0000\n",
            "Epoch 3/20\n",
            "22/22 [==============================] - 400s 18s/step - loss: 1.5231e-06 - accuracy: 1.0000 - val_loss: 1.1411e-16 - val_accuracy: 1.0000\n",
            "Epoch 4/20\n",
            "22/22 [==============================] - 401s 18s/step - loss: 1.0372e-06 - accuracy: 1.0000 - val_loss: 5.2152e-11 - val_accuracy: 1.0000\n",
            "Epoch 5/20\n",
            "22/22 [==============================] - 401s 18s/step - loss: 2.0316e-06 - accuracy: 1.0000 - val_loss: 1.0906e-08 - val_accuracy: 1.0000\n",
            "Epoch 6/20\n",
            "22/22 [==============================] - 399s 18s/step - loss: 9.6505e-07 - accuracy: 1.0000 - val_loss: 9.5907e-09 - val_accuracy: 1.0000\n",
            "Epoch 7/20\n",
            "22/22 [==============================] - 399s 18s/step - loss: 9.0932e-07 - accuracy: 1.0000 - val_loss: 1.9945e-08 - val_accuracy: 1.0000\n",
            "Epoch 8/20\n",
            "22/22 [==============================] - 396s 18s/step - loss: 7.8349e-07 - accuracy: 1.0000 - val_loss: 3.6046e-08 - val_accuracy: 1.0000\n",
            "Epoch 9/20\n",
            "22/22 [==============================] - 396s 18s/step - loss: 6.1506e-07 - accuracy: 1.0000 - val_loss: 4.2328e-08 - val_accuracy: 1.0000\n",
            "Epoch 10/20\n",
            "22/22 [==============================] - 396s 18s/step - loss: 6.5532e-07 - accuracy: 1.0000 - val_loss: 4.1569e-08 - val_accuracy: 1.0000\n",
            "Epoch 11/20\n",
            "22/22 [==============================] - 394s 18s/step - loss: 4.9766e-07 - accuracy: 1.0000 - val_loss: 3.9879e-08 - val_accuracy: 1.0000\n",
            "Epoch 12/20\n",
            "22/22 [==============================] - 395s 18s/step - loss: 5.3099e-07 - accuracy: 1.0000 - val_loss: 3.9904e-08 - val_accuracy: 1.0000\n",
            "Epoch 13/20\n",
            "22/22 [==============================] - 396s 18s/step - loss: 1.0071e-06 - accuracy: 1.0000 - val_loss: 4.9114e-08 - val_accuracy: 1.0000\n",
            "Epoch 14/20\n",
            "22/22 [==============================] - 399s 18s/step - loss: 8.3996e-07 - accuracy: 1.0000 - val_loss: 6.1334e-08 - val_accuracy: 1.0000\n",
            "Epoch 15/20\n",
            "22/22 [==============================] - 411s 19s/step - loss: 7.5676e-07 - accuracy: 1.0000 - val_loss: 5.8622e-08 - val_accuracy: 1.0000\n",
            "Epoch 16/20\n",
            "22/22 [==============================] - 397s 18s/step - loss: 2.5203e-07 - accuracy: 1.0000 - val_loss: 6.7331e-08 - val_accuracy: 1.0000\n",
            "Epoch 17/20\n",
            "22/22 [==============================] - 396s 18s/step - loss: 5.5868e-07 - accuracy: 1.0000 - val_loss: 7.3283e-08 - val_accuracy: 1.0000\n",
            "Epoch 18/20\n",
            "22/22 [==============================] - 397s 18s/step - loss: 4.5526e-07 - accuracy: 1.0000 - val_loss: 6.7499e-08 - val_accuracy: 1.0000\n",
            "Epoch 19/20\n",
            "22/22 [==============================] - 398s 18s/step - loss: 2.5374e-07 - accuracy: 1.0000 - val_loss: 6.6581e-08 - val_accuracy: 1.0000\n",
            "Epoch 20/20\n",
            "22/22 [==============================] - 398s 18s/step - loss: 4.6689e-07 - accuracy: 1.0000 - val_loss: 6.8253e-08 - val_accuracy: 1.0000\n"
          ]
        }
      ],
      "source": [
        "# Training\n",
        "history = model.fit(\n",
        "    train_ds,\n",
        "    validation_data=val_ds,\n",
        "    epochs=EPOCHS\n",
        ")"
      ]
    },
    {
      "cell_type": "code",
      "execution_count": 15,
      "metadata": {
        "id": "4MipVD9MXBBH",
        "colab": {
          "base_uri": "https://localhost:8080/",
          "height": 927
        },
        "outputId": "950edc38-8648-46ff-88b4-e16a168f003f"
      },
      "outputs": [
        {
          "output_type": "display_data",
          "data": {
            "text/plain": [
              "<Figure size 640x480 with 1 Axes>"
            ],
            "image/png": "[encoded data removed]"
          },
          "metadata": {}
        },
        {
          "output_type": "display_data",
          "data": {
            "text/plain": [
              "<Figure size 640x480 with 1 Axes>"
            ],
            "image/png": "[encoded data removed]"
          },
          "metadata": {}
        }
      ],
      "source": [
        "# Draw training and validation accuracy\n",
        "plt.plot(history.history['accuracy'], label='Training Accuracy')\n",
        "plt.plot(history.history['val_accuracy'], label='Validation Accuracy')\n",
        "plt.xlabel('Epoch')\n",
        "plt.ylabel('Accuracy')\n",
        "plt.ylim([0, 1])\n",
        "plt.legend(loc='lower right')\n",
        "plt.title('Training and Validation Accuracy')\n",
        "plt.show()\n",
        "\n",
        "# Draw training and validation loss\n",
        "plt.plot(history.history['loss'], label='Training Loss')\n",
        "plt.plot(history.history['val_loss'], label='Validation Loss')\n",
        "plt.xlabel('Epoch')\n",
        "plt.ylabel('Loss')\n",
        "plt.ylim([0, 1])\n",
        "plt.legend(loc='upper right')\n",
        "plt.title('Training and Validation Loss')\n",
        "plt.show()"
      ]
    },
    {
      "cell_type": "code",
      "source": [
        "import os\n",
        "from keras.models import load_model\n",
        "\n",
        "# Replace 'model' with the name of your model\n",
        "model_name = 'final object detection '\n",
        "\n",
        "# Path to your Google Drive\n",
        "drive_path = \"/content/drive/MyDrive/colab_NoteBooks\"\n",
        "\n",
        "# Full path for saving the model\n",
        "save_path = os.path.join(drive_path, model_name)\n",
        "\n",
        "# Save the model\n",
        "model.save(save_path)"
      ],
      "metadata": {
        "id": "NIbs1p4gBZ-F"
      },
      "execution_count": 16,
      "outputs": []
    },
    {
      "cell_type": "code",
      "execution_count": 17,
      "metadata": {
        "id": "Ho14l8zXXBJ-",
        "colab": {
          "base_uri": "https://localhost:8080/"
        },
        "outputId": "952dd35d-462a-4526-c56f-dd95c9732bf0"
      },
      "outputs": [
        {
          "output_type": "stream",
          "name": "stderr",
          "text": [
            "/usr/local/lib/python3.10/dist-packages/keras/src/engine/training.py:3103: UserWarning: You are saving your model as an HDF5 file via `model.save()`. This file format is considered legacy. We recommend using instead the native Keras format, e.g. `model.save('my_model.keras')`.\n",
            "  saving_api.save_model(\n"
          ]
        }
      ],
      "source": [
        "# Save the model in h5 format\n",
        "model.save(\"/content/drive/MyDrive/dataset/leaf_detection_model.h5\")"
      ]
    },
    {
      "cell_type": "code",
      "execution_count": null,
      "metadata": {
        "id": "bsN36VkyXBMP"
      },
      "outputs": [],
      "source": []
    }
  ],
  "metadata": {
    "colab": {
      "provenance": [],
      "authorship_tag": "ABX9TyOnhiTyMD/q3KR65qfbEQAa",
      "include_colab_link": true
    },
    "kernelspec": {
      "display_name": "Python 3",
      "name": "python3"
    },
    "language_info": {
      "name": "python"
    }
  },
  "nbformat": 4,
  "nbformat_minor": 0
}