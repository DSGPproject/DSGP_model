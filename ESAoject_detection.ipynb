{
  "cells": [
    {
      "cell_type": "markdown",
      "metadata": {
        "id": "view-in-github",
        "colab_type": "text"
      },
      "source": [
        "<a href=\"https://colab.research.google.com/github/DSGPproject/DSGP_model/blob/Esandu/ESAoject_detection.ipynb\" target=\"_parent\"><img src=\"https://colab.research.google.com/assets/colab-badge.svg\" alt=\"Open In Colab\"/></a>"
      ]
    },
    {
      "cell_type": "code",
      "execution_count": 1,
      "id": "initial_id",
      "metadata": {
        "collapsed": true,
        "ExecuteTime": {
          "end_time": "2024-02-11T15:41:42.727861900Z",
          "start_time": "2024-02-11T15:41:17.304552300Z"
        },
        "colab": {
          "base_uri": "https://localhost:8080/"
        },
        "id": "initial_id",
        "outputId": "9d2113f1-baad-4db2-ceca-9c76cceadd19"
      },
      "outputs": [
        {
          "output_type": "stream",
          "name": "stdout",
          "text": [
            "Collecting ultralytics\n",
            "  Downloading ultralytics-8.1.24-py3-none-any.whl (719 kB)\n",
            "\u001b[2K     \u001b[90m━━━━━━━━━━━━━━━━━━━━━━━━━━━━━━━━━━━━━━━━\u001b[0m \u001b[32m719.5/719.5 kB\u001b[0m \u001b[31m8.8 MB/s\u001b[0m eta \u001b[36m0:00:00\u001b[0m\n",
            "\u001b[?25hRequirement already satisfied: matplotlib>=3.3.0 in /usr/local/lib/python3.10/dist-packages (from ultralytics) (3.7.1)\n",
            "Requirement already satisfied: opencv-python>=4.6.0 in /usr/local/lib/python3.10/dist-packages (from ultralytics) (4.8.0.76)\n",
            "Requirement already satisfied: pillow>=7.1.2 in /usr/local/lib/python3.10/dist-packages (from ultralytics) (9.4.0)\n",
            "Requirement already satisfied: pyyaml>=5.3.1 in /usr/local/lib/python3.10/dist-packages (from ultralytics) (6.0.1)\n",
            "Requirement already satisfied: requests>=2.23.0 in /usr/local/lib/python3.10/dist-packages (from ultralytics) (2.31.0)\n",
            "Requirement already satisfied: scipy>=1.4.1 in /usr/local/lib/python3.10/dist-packages (from ultralytics) (1.11.4)\n",
            "Requirement already satisfied: torch>=1.8.0 in /usr/local/lib/python3.10/dist-packages (from ultralytics) (2.1.0+cu121)\n",
            "Requirement already satisfied: torchvision>=0.9.0 in /usr/local/lib/python3.10/dist-packages (from ultralytics) (0.16.0+cu121)\n",
            "Requirement already satisfied: tqdm>=4.64.0 in /usr/local/lib/python3.10/dist-packages (from ultralytics) (4.66.2)\n",
            "Requirement already satisfied: psutil in /usr/local/lib/python3.10/dist-packages (from ultralytics) (5.9.5)\n",
            "Requirement already satisfied: py-cpuinfo in /usr/local/lib/python3.10/dist-packages (from ultralytics) (9.0.0)\n",
            "Collecting thop>=0.1.1 (from ultralytics)\n",
            "  Downloading thop-0.1.1.post2209072238-py3-none-any.whl (15 kB)\n",
            "Requirement already satisfied: pandas>=1.1.4 in /usr/local/lib/python3.10/dist-packages (from ultralytics) (1.5.3)\n",
            "Requirement already satisfied: seaborn>=0.11.0 in /usr/local/lib/python3.10/dist-packages (from ultralytics) (0.13.1)\n",
            "Requirement already satisfied: contourpy>=1.0.1 in /usr/local/lib/python3.10/dist-packages (from matplotlib>=3.3.0->ultralytics) (1.2.0)\n",
            "Requirement already satisfied: cycler>=0.10 in /usr/local/lib/python3.10/dist-packages (from matplotlib>=3.3.0->ultralytics) (0.12.1)\n",
            "Requirement already satisfied: fonttools>=4.22.0 in /usr/local/lib/python3.10/dist-packages (from matplotlib>=3.3.0->ultralytics) (4.49.0)\n",
            "Requirement already satisfied: kiwisolver>=1.0.1 in /usr/local/lib/python3.10/dist-packages (from matplotlib>=3.3.0->ultralytics) (1.4.5)\n",
            "Requirement already satisfied: numpy>=1.20 in /usr/local/lib/python3.10/dist-packages (from matplotlib>=3.3.0->ultralytics) (1.25.2)\n",
            "Requirement already satisfied: packaging>=20.0 in /usr/local/lib/python3.10/dist-packages (from matplotlib>=3.3.0->ultralytics) (23.2)\n",
            "Requirement already satisfied: pyparsing>=2.3.1 in /usr/local/lib/python3.10/dist-packages (from matplotlib>=3.3.0->ultralytics) (3.1.1)\n",
            "Requirement already satisfied: python-dateutil>=2.7 in /usr/local/lib/python3.10/dist-packages (from matplotlib>=3.3.0->ultralytics) (2.8.2)\n",
            "Requirement already satisfied: pytz>=2020.1 in /usr/local/lib/python3.10/dist-packages (from pandas>=1.1.4->ultralytics) (2023.4)\n",
            "Requirement already satisfied: charset-normalizer<4,>=2 in /usr/local/lib/python3.10/dist-packages (from requests>=2.23.0->ultralytics) (3.3.2)\n",
            "Requirement already satisfied: idna<4,>=2.5 in /usr/local/lib/python3.10/dist-packages (from requests>=2.23.0->ultralytics) (3.6)\n",
            "Requirement already satisfied: urllib3<3,>=1.21.1 in /usr/local/lib/python3.10/dist-packages (from requests>=2.23.0->ultralytics) (2.0.7)\n",
            "Requirement already satisfied: certifi>=2017.4.17 in /usr/local/lib/python3.10/dist-packages (from requests>=2.23.0->ultralytics) (2024.2.2)\n",
            "Requirement already satisfied: filelock in /usr/local/lib/python3.10/dist-packages (from torch>=1.8.0->ultralytics) (3.13.1)\n",
            "Requirement already satisfied: typing-extensions in /usr/local/lib/python3.10/dist-packages (from torch>=1.8.0->ultralytics) (4.10.0)\n",
            "Requirement already satisfied: sympy in /usr/local/lib/python3.10/dist-packages (from torch>=1.8.0->ultralytics) (1.12)\n",
            "Requirement already satisfied: networkx in /usr/local/lib/python3.10/dist-packages (from torch>=1.8.0->ultralytics) (3.2.1)\n",
            "Requirement already satisfied: jinja2 in /usr/local/lib/python3.10/dist-packages (from torch>=1.8.0->ultralytics) (3.1.3)\n",
            "Requirement already satisfied: fsspec in /usr/local/lib/python3.10/dist-packages (from torch>=1.8.0->ultralytics) (2023.6.0)\n",
            "Requirement already satisfied: triton==2.1.0 in /usr/local/lib/python3.10/dist-packages (from torch>=1.8.0->ultralytics) (2.1.0)\n",
            "Requirement already satisfied: six>=1.5 in /usr/local/lib/python3.10/dist-packages (from python-dateutil>=2.7->matplotlib>=3.3.0->ultralytics) (1.16.0)\n",
            "Requirement already satisfied: MarkupSafe>=2.0 in /usr/local/lib/python3.10/dist-packages (from jinja2->torch>=1.8.0->ultralytics) (2.1.5)\n",
            "Requirement already satisfied: mpmath>=0.19 in /usr/local/lib/python3.10/dist-packages (from sympy->torch>=1.8.0->ultralytics) (1.3.0)\n",
            "Installing collected packages: thop, ultralytics\n",
            "Successfully installed thop-0.1.1.post2209072238 ultralytics-8.1.24\n"
          ]
        }
      ],
      "source": [
        "import cv2\n",
        "import math\n",
        "import os\n",
        "\n",
        "!pip install ultralytics\n",
        "from ultralytics import YOLO\n",
        "\n",
        "\n"
      ]
    },
    {
      "cell_type": "code",
      "source": [
        "# Function to detect if an image contains a plant leaf\n",
        "def detect_leaf(image_path, model, class_names):\n",
        "    # Load the image\n",
        "    img = cv2.imread(image_path)\n",
        "\n",
        "    # Perform object detection\n",
        "    results = model(img)\n",
        "\n",
        "    # Check if any leaf is detected\n",
        "    for r in results:\n",
        "        for box in r.boxes.data:\n",
        "            if box[5] == \"leaf\":\n",
        "                return True\n",
        "\n",
        "    return False\n"
      ],
      "metadata": {
        "id": "7lVblTAkupl2"
      },
      "id": "7lVblTAkupl2",
      "execution_count": 2,
      "outputs": []
    },
    {
      "cell_type": "code",
      "source": [
        "def draw_boxes(img, results, class_names, objects_to_detect, confidence_threshold=0.5):\n",
        "    object_detected = False\n",
        "    object_boxes = []  # Store bounding box coordinates of detected objects\n",
        "    for r in results:\n",
        "        boxes = r.boxes.data\n",
        "\n",
        "        for box in boxes:\n",
        "            x1, y1, x2, y2 = map(int, box[:4])  # Extracting the first 4 elements\n",
        "            confidence = math.ceil((box[4] * 100)) / 100\n",
        "\n",
        "            # Check if the detected class index is within the range of class_names\n",
        "            if int(box[5]) < len(class_names):\n",
        "                # Check if the detected object is in the objects_to_detect list\n",
        "                if confidence > confidence_threshold and class_names[int(box[5])] in objects_to_detect:\n",
        "                    object_detected = True\n",
        "                    cv2.rectangle(img, (x1, y1), (x2, y2), (255, 0, 255), 3)\n",
        "                    object_boxes.append((x1, y1, x2, y2))  # Store bounding box coordinates\n",
        "\n",
        "                    org = [x1, y1]\n",
        "                    font = cv2.FONT_HERSHEY_SIMPLEX\n",
        "                    fontScale = 1\n",
        "                    color = (255, 0, 0)\n",
        "                    thickness = 2\n",
        "\n",
        "                    cv2.putText(img, f\"{class_names[int(box[5])]} {confidence:.2f}\", org, font, fontScale, color, thickness)\n",
        "\n",
        "    return object_detected, object_boxes"
      ],
      "metadata": {
        "id": "vdQrMq7ZwZZr"
      },
      "id": "vdQrMq7ZwZZr",
      "execution_count": 8,
      "outputs": []
    },
    {
      "cell_type": "code",
      "source": [
        "# model\n",
        "model = YOLO(\"yolo-Weights/yolov8n.pt\")"
      ],
      "metadata": {
        "colab": {
          "base_uri": "https://localhost:8080/"
        },
        "id": "fSWSLnyMupvA",
        "outputId": "dfeb4f6d-6186-4323-ae44-26bd99a7c6ba"
      },
      "id": "fSWSLnyMupvA",
      "execution_count": 3,
      "outputs": [
        {
          "output_type": "stream",
          "name": "stdout",
          "text": [
            "Downloading https://github.com/ultralytics/assets/releases/download/v8.1.0/yolov8n.pt to 'yolo-Weights/yolov8n.pt'...\n"
          ]
        },
        {
          "output_type": "stream",
          "name": "stderr",
          "text": [
            "100%|██████████| 6.23M/6.23M [00:00<00:00, 55.2MB/s]\n"
          ]
        }
      ]
    },
    {
      "cell_type": "code",
      "source": [
        "from google.colab import drive\n",
        "drive.mount('/content/drive')"
      ],
      "metadata": {
        "colab": {
          "base_uri": "https://localhost:8080/"
        },
        "id": "B9259OA0u6NS",
        "outputId": "ad84e81c-6306-4b67-95b6-311903e5dc27"
      },
      "id": "B9259OA0u6NS",
      "execution_count": 4,
      "outputs": [
        {
          "output_type": "stream",
          "name": "stdout",
          "text": [
            "Mounted at /content/drive\n"
          ]
        }
      ]
    },
    {
      "cell_type": "code",
      "source": [
        "# object classes\n",
        "classNames = [\"person\", \"bicycle\", \"car\", \"motorbike\", \"aeroplane\", \"bus\", \"train\", \"truck\", \"boat\",\n",
        "              \"traffic light\", \"fire hydrant\", \"stop sign\", \"parking meter\", \"bench\", \"bird\", \"cat\",\n",
        "              \"dog\", \"horse\", \"sheep\", \"cow\", \"elephant\", \"bear\", \"zebra\", \"giraffe\", \"backpack\", \"umbrella\",\n",
        "              \"handbag\", \"tie\", \"suitcase\", \"frisbee\", \"skis\", \"snowboard\", \"sports ball\", \"kite\", \"baseball bat\",\n",
        "              \"baseball glove\", \"skateboard\", \"surfboard\", \"tennis racket\", \"bottle\", \"wine glass\", \"cup\",\n",
        "              \"fork\", \"knife\", \"spoon\", \"bowl\", \"banana\", \"apple\", \"potato\", \"tomato\", \"mango\", \"sandwich\", \"orange\", \"broccoli\",\n",
        "              \"carrot\", \"hot dog\", \"pizza\", \"donut\", \"cake\", \"chair\", \"sofa\", \"pottedplant\", \"bed\",\n",
        "              \"diningtable\", \"toilet\", \"tvmonitor\", \"laptop\", \"mouse\", \"remote\", \"keyboard\", \"cell phone\",\n",
        "              \"microwave\", \"oven\", \"toaster\", \"sink\", \"refrigerator\", \"book\", \"clock\", \"vase\", \"scissors\",\n",
        "              \"teddy bear\", \"hair drier\", \"toothbrush\",\"leaf\"\n",
        "              ]"
      ],
      "metadata": {
        "id": "BJlfdjAfupxz"
      },
      "id": "BJlfdjAfupxz",
      "execution_count": 5,
      "outputs": []
    },
    {
      "cell_type": "code",
      "source": [
        "objects_to_detect = [\"leaf\"]"
      ],
      "metadata": {
        "id": "FqWk5vJbvlsA"
      },
      "id": "FqWk5vJbvlsA",
      "execution_count": 10,
      "outputs": []
    },
    {
      "cell_type": "code",
      "execution_count": 17,
      "outputs": [
        {
          "output_type": "stream",
          "name": "stdout",
          "text": [
            "\n",
            "0: 640x480 (no detections), 231.3ms\n",
            "Speed: 8.1ms preprocess, 231.3ms inference, 1.3ms postprocess per image at shape (1, 3, 640, 480)\n",
            "The image does not contain a plant leaf.\n"
          ]
        }
      ],
      "source": [
        "\n",
        "def detect_leaf_from_image(image_path):\n",
        "    img = cv2.imread(image_path)\n",
        "    results = model(img)\n",
        "    object_detected, _ = draw_boxes(img, results, classNames, objects_to_detect)\n",
        "    return object_detected\n",
        "\n",
        "# Example usage\n",
        "image_path = \"/content/drive/MyDrive/dataset/unchanged/white spot/UNADJUSTEDNONRAW_thumb_f1.jpg\"  # Replace with the path to the image\n",
        "is_leaf = detect_leaf_from_image(image_path)\n",
        "\n",
        "if is_leaf:\n",
        "    print(\"The image contains a plant leaf.\")\n",
        "else:\n",
        "    print(\"The image does not contain a plant leaf.\")"
      ],
      "metadata": {
        "id": "21c70d34c6dac57b",
        "colab": {
          "base_uri": "https://localhost:8080/"
        },
        "outputId": "edbfc7dc-a58c-4a49-9e53-8f48c90472c4"
      },
      "id": "21c70d34c6dac57b"
    },
    {
      "cell_type": "code",
      "source": [
        "img = cv2.imread(image_path)"
      ],
      "metadata": {
        "id": "2Vpg7h30yH33"
      },
      "id": "2Vpg7h30yH33",
      "execution_count": 18,
      "outputs": []
    },
    {
      "cell_type": "code",
      "source": [
        "# Function to draw bounding boxes, labels, and confidence scores\n",
        "def draw_boxes(img, results, class_names, objects_to_detect, confidence_threshold=0.5):\n",
        "    object_detected = False\n",
        "    object_boxes = []  # Store bounding box coordinates of detected objects\n",
        "    for r in results:\n",
        "        boxes = r.boxes.data\n",
        "\n",
        "        for box in boxes:\n",
        "            x1, y1, x2, y2 = map(int, box[:4])  # Extracting the first 4 elements\n",
        "            confidence = math.ceil((box[4] * 100)) / 100\n",
        "\n",
        "            # Check if the detected class index is within the range of class_names\n",
        "            if int(box[5]) < len(class_names):\n",
        "                # Check if the detected object is in the objects_to_detect list\n",
        "                if confidence > confidence_threshold and class_names[int(box[5])] in objects_to_detect:\n",
        "                    object_detected = True\n",
        "                    cv2.rectangle(img, (x1, y1), (x2, y2), (255, 0, 255), 3)\n",
        "                    object_boxes.append((x1, y1, x2, y2))  # Store bounding box coordinates\n",
        "\n",
        "                    org = [x1, y1]\n",
        "                    font = cv2.FONT_HERSHEY_SIMPLEX\n",
        "                    fontScale = 1\n",
        "                    color = (255, 0, 0)\n",
        "                    thickness = 2\n",
        "\n",
        "                    cv2.putText(img, f\"{class_names[int(box[5])]} {confidence:.2f}\", org, font, fontScale, color, thickness)\n",
        "\n",
        "    return object_detected, object_boxes\n",
        "\n",
        "# Function to check if leaf is present\n",
        "def is_leaf_present(results, class_names, confidence_threshold=0.5):\n",
        "  for r in results:\n",
        "    boxes = r.boxes.data\n",
        "    for box in boxes:\n",
        "      confidence = math.ceil((box[4] * 100)) / 100\n",
        "      # Check if detected object is leaf with high confidence\n",
        "      if confidence > confidence_threshold and class_names[int(box[5])] == \"leaf\":\n",
        "        return True\n",
        "  return False"
      ],
      "metadata": {
        "id": "GwJwlAx_yH6s"
      },
      "id": "GwJwlAx_yH6s",
      "execution_count": 19,
      "outputs": []
    },
    {
      "cell_type": "code",
      "source": [
        "# Run object detection on the image\n",
        "results = model(img)\n",
        "\n",
        "# Check for leaf before drawing boxes\n",
        "if is_leaf_present(results, classNames):\n",
        "  object_detected, object_boxes = draw_boxes(img, results, classNames, objects_to_detect)\n",
        "  # Display the image with bounding boxes (if a leaf is found)\n",
        "  cv2.imshow('Image', img)\n",
        "  cv2.waitKey(0)  # Wait for a key press to close the window\n",
        "else:\n",
        "  print(\"Image does not contain a leaf.\")"
      ],
      "metadata": {
        "colab": {
          "base_uri": "https://localhost:8080/"
        },
        "id": "RGdQxmiQyH9B",
        "outputId": "5898f06e-c29c-4e08-8bcc-20d5b21b5547"
      },
      "id": "RGdQxmiQyH9B",
      "execution_count": 20,
      "outputs": [
        {
          "output_type": "stream",
          "name": "stdout",
          "text": [
            "\n",
            "0: 640x480 (no detections), 195.7ms\n",
            "Speed: 5.2ms preprocess, 195.7ms inference, 0.8ms postprocess per image at shape (1, 3, 640, 480)\n",
            "Image does not contain a leaf.\n"
          ]
        }
      ]
    },
    {
      "cell_type": "code",
      "source": [],
      "metadata": {
        "id": "2NFjGTyayH_G"
      },
      "id": "2NFjGTyayH_G",
      "execution_count": null,
      "outputs": []
    }
  ],
  "metadata": {
    "kernelspec": {
      "display_name": "Python 3",
      "language": "python",
      "name": "python3"
    },
    "language_info": {
      "codemirror_mode": {
        "name": "ipython",
        "version": 2
      },
      "file_extension": ".py",
      "mimetype": "text/x-python",
      "name": "python",
      "nbconvert_exporter": "python",
      "pygments_lexer": "ipython2",
      "version": "2.7.6"
    },
    "colab": {
      "provenance": [],
      "include_colab_link": true
    }
  },
  "nbformat": 4,
  "nbformat_minor": 5
}